{
  "nbformat": 4,
  "nbformat_minor": 0,
  "metadata": {
    "colab": {
      "provenance": [],
      "authorship_tag": "ABX9TyNcWsrryLItS2HNXjAaAX+s",
      "include_colab_link": true
    },
    "kernelspec": {
      "name": "python3",
      "display_name": "Python 3"
    },
    "language_info": {
      "name": "python"
    }
  },
  "cells": [
    {
      "cell_type": "markdown",
      "metadata": {
        "id": "view-in-github",
        "colab_type": "text"
      },
      "source": [
        "<a href=\"https://colab.research.google.com/github/Branre42/Class08012025/blob/main/Untitled0.ipynb\" target=\"_parent\"><img src=\"https://colab.research.google.com/assets/colab-badge.svg\" alt=\"Open In Colab\"/></a>"
      ]
    },
    {
      "cell_type": "code",
      "execution_count": null,
      "metadata": {
        "id": "4HYBbx7SM1fD"
      },
      "outputs": [],
      "source": [
        "message = \"Hello to the world of Google Colab to learn python for data engineering\"\n",
        "print (message)"
      ]
    },
    {
      "cell_type": "markdown",
      "source": [],
      "metadata": {
        "id": "XoaNUnwgQ7Cd"
      }
    },
    {
      "cell_type": "markdown",
      "source": [
        "# **Lets learn about VARIABLES**\n",
        "\n",
        "\n",
        "\n",
        "1.   Float\n",
        "2.   Int\n",
        "3. Boolean / Bool\n",
        "4. String\n",
        "5. Array / List\n",
        "6. Date\n",
        "\n",
        "\n",
        "7. None -- Its type is not known and its value is not known.\n",
        "\n"
      ],
      "metadata": {
        "id": "MeorCxKST3Sh"
      }
    },
    {
      "cell_type": "code",
      "source": [
        "name = \"Tony\" # type of value is String\n",
        "age = 20 # type of value is Integer or Numerical\n",
        "name = age\n",
        "age = None\n",
        "print (name)"
      ],
      "metadata": {
        "id": "87nNofqiUOR2"
      },
      "execution_count": null,
      "outputs": []
    },
    {
      "cell_type": "markdown",
      "source": [],
      "metadata": {
        "id": "G1hWWiuYUa2Q"
      }
    },
    {
      "cell_type": "markdown",
      "source": [],
      "metadata": {
        "id": "HjKDl8TGVWSU"
      }
    }
  ]
}